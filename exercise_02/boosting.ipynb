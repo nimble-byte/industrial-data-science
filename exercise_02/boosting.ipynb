{
 "cells": [
  {
   "cell_type": "code",
   "execution_count": 1,
   "metadata": {},
   "outputs": [],
   "source": [
    "import pandas as pd\n",
    "import matplotlib.pyplot as plt\n",
    "import os\n",
    "\n",
    "from sklearn.model_selection import train_test_split\n",
    "from sklearn.pipeline import make_pipeline\n",
    "from sklearn.preprocessing import StandardScaler\n",
    "from sklearn.metrics import accuracy_score, confusion_matrix, ConfusionMatrixDisplay\n",
    "\n",
    "from sklearn.ensemble import HistGradientBoostingClassifier\n"
   ]
  },
  {
   "cell_type": "markdown",
   "metadata": {},
   "source": [
    "# Load Data\n",
    "\n",
    "First step is to ingest all the data we have available and merge them into a flattened datastructure containing all measurements. Indexes are ignored and rewritten to allow all readings to be added to the DF:"
   ]
  },
  {
   "cell_type": "code",
   "execution_count": 2,
   "metadata": {},
   "outputs": [],
   "source": [
    "# parse the labels.csv\n",
    "labels = pd.read_csv('labels.csv', index_col=0)\n",
    "\n",
    "# grab filenames from the data directory\n",
    "filenames = os.listdir('data')\n",
    "\n",
    "dataframes = []\n",
    "\n",
    "# parse and concatenate all csv files into df\n",
    "for filename in filenames:\n",
    "  if filename.endswith('.csv'):\n",
    "    batch = pd.read_csv(os.path.join('data',filename), index_col=0)\n",
    "    batch['batch'] = int(filename.replace('.csv', ''))\n",
    "    dataframes.append(batch)\n",
    "\n",
    "df = pd.concat(dataframes, ignore_index=True)\n",
    "\n",
    "# print(df[:10])\n"
   ]
  },
  {
   "cell_type": "code",
   "execution_count": 3,
   "metadata": {},
   "outputs": [],
   "source": [
    "# add label column (if it is not already available)\n",
    "if (not 'label' in df.columns):\n",
    "  df = df.merge(labels, left_on=[\"batch\"], right_on=[\"id\"])\n",
    "\n",
    "def time_to_float(inputstr):\n",
    "  hours, minutes, seconds = map(float, inputstr.split(':'))\n",
    "\n",
    "  # return hours * 3600 + minutes * 60 + seconds\n",
    "  # this is sufficient because hours should always be 0\n",
    "  return minutes * 60 + seconds\n",
    "\n",
    "if (not df['zeit'].dtype == 'category'):\n",
    "  df['label'] = df['label'].astype('category')\n",
    "if (not df['zeit'].dtype == 'float64'):\n",
    "  df['zeit'] = df['zeit'].apply(time_to_float)\n",
    "\n",
    "# print(df[:10])\n",
    "# print(df['label'].value_counts())\n"
   ]
  },
  {
   "cell_type": "markdown",
   "metadata": {},
   "source": [
    "# Test Data Preprocessing"
   ]
  },
  {
   "cell_type": "code",
   "execution_count": 4,
   "metadata": {},
   "outputs": [],
   "source": [
    "X = df[['zeit','messwert','sensorid']]\n",
    "y = df['label']\n",
    "\n",
    "X_train, X_test, y_train, y_test = train_test_split(X, y, test_size=0.2, random_state=42)\n",
    "\n",
    "# print(X_train[:10])\n",
    "# print(y_train[:10])\n"
   ]
  },
  {
   "cell_type": "markdown",
   "metadata": {},
   "source": [
    "# Modelling"
   ]
  },
  {
   "cell_type": "code",
   "execution_count": 13,
   "metadata": {},
   "outputs": [
    {
     "name": "stdout",
     "output_type": "stream",
     "text": [
      "Binning 0.069 GB of training data: 0.128 s\n",
      "Binning 0.008 GB of validation data: 0.006 s\n",
      "Fitting gradient boosted rounds:\n",
      "[1/100] 3 trees, 93 leaves (31 on avg), max depth = 14, train loss: 1.08617, val loss: 1.08601, in 0.135s\n",
      "[2/100] 3 trees, 93 leaves (31 on avg), max depth = 14, train loss: 1.07740, val loss: 1.07712, in 0.116s\n",
      "[3/100] 3 trees, 93 leaves (31 on avg), max depth = 14, train loss: 1.07091, val loss: 1.07051, in 0.115s\n",
      "[4/100] 3 trees, 93 leaves (31 on avg), max depth = 14, train loss: 1.06588, val loss: 1.06544, in 0.123s\n",
      "[5/100] 3 trees, 93 leaves (31 on avg), max depth = 14, train loss: 1.06199, val loss: 1.06150, in 0.120s\n",
      "[6/100] 3 trees, 93 leaves (31 on avg), max depth = 14, train loss: 1.05887, val loss: 1.05834, in 0.117s\n",
      "[7/100] 3 trees, 93 leaves (31 on avg), max depth = 12, train loss: 1.05647, val loss: 1.05590, in 0.120s\n",
      "[8/100] 3 trees, 93 leaves (31 on avg), max depth = 13, train loss: 1.05447, val loss: 1.05389, in 0.114s\n",
      "[9/100] 3 trees, 93 leaves (31 on avg), max depth = 11, train loss: 1.05279, val loss: 1.05216, in 0.115s\n",
      "[10/100] 3 trees, 93 leaves (31 on avg), max depth = 12, train loss: 1.05119, val loss: 1.05057, in 0.124s\n",
      "[11/100] 3 trees, 93 leaves (31 on avg), max depth = 12, train loss: 1.04988, val loss: 1.04925, in 0.122s\n",
      "[12/100] 3 trees, 93 leaves (31 on avg), max depth = 13, train loss: 1.04871, val loss: 1.04811, in 0.116s\n",
      "[13/100] 3 trees, 93 leaves (31 on avg), max depth = 15, train loss: 1.04777, val loss: 1.04716, in 0.120s\n",
      "[14/100] 3 trees, 93 leaves (31 on avg), max depth = 11, train loss: 1.04702, val loss: 1.04643, in 0.114s\n",
      "[15/100] 3 trees, 93 leaves (31 on avg), max depth = 12, train loss: 1.04619, val loss: 1.04559, in 0.107s\n",
      "[16/100] 3 trees, 93 leaves (31 on avg), max depth = 17, train loss: 1.04553, val loss: 1.04495, in 0.109s\n",
      "[17/100] 3 trees, 93 leaves (31 on avg), max depth = 14, train loss: 1.04492, val loss: 1.04432, in 0.115s\n",
      "[18/100] 3 trees, 93 leaves (31 on avg), max depth = 11, train loss: 1.04438, val loss: 1.04378, in 0.113s\n",
      "[19/100] 3 trees, 93 leaves (31 on avg), max depth = 15, train loss: 1.04389, val loss: 1.04328, in 0.111s\n",
      "[20/100] 3 trees, 93 leaves (31 on avg), max depth = 13, train loss: 1.04344, val loss: 1.04284, in 0.114s\n",
      "[21/100] 3 trees, 93 leaves (31 on avg), max depth = 11, train loss: 1.04307, val loss: 1.04248, in 0.110s\n",
      "[22/100] 3 trees, 93 leaves (31 on avg), max depth = 12, train loss: 1.04268, val loss: 1.04210, in 0.112s\n",
      "[23/100] 3 trees, 93 leaves (31 on avg), max depth = 13, train loss: 1.04232, val loss: 1.04173, in 0.114s\n",
      "[24/100] 3 trees, 93 leaves (31 on avg), max depth = 13, train loss: 1.04202, val loss: 1.04144, in 0.114s\n",
      "[25/100] 3 trees, 93 leaves (31 on avg), max depth = 15, train loss: 1.04179, val loss: 1.04122, in 0.104s\n",
      "[26/100] 3 trees, 93 leaves (31 on avg), max depth = 15, train loss: 1.04142, val loss: 1.04085, in 0.114s\n",
      "[27/100] 3 trees, 93 leaves (31 on avg), max depth = 10, train loss: 1.04110, val loss: 1.04051, in 0.102s\n",
      "[28/100] 3 trees, 93 leaves (31 on avg), max depth = 14, train loss: 1.04081, val loss: 1.04022, in 0.098s\n",
      "[29/100] 3 trees, 93 leaves (31 on avg), max depth = 11, train loss: 1.04057, val loss: 1.03999, in 0.097s\n",
      "[30/100] 3 trees, 93 leaves (31 on avg), max depth = 14, train loss: 1.04039, val loss: 1.03981, in 0.107s\n",
      "[31/100] 3 trees, 93 leaves (31 on avg), max depth = 12, train loss: 1.04007, val loss: 1.03948, in 0.094s\n",
      "[32/100] 3 trees, 93 leaves (31 on avg), max depth = 10, train loss: 1.03983, val loss: 1.03927, in 0.113s\n",
      "[33/100] 3 trees, 93 leaves (31 on avg), max depth = 11, train loss: 1.03966, val loss: 1.03909, in 0.099s\n",
      "[34/100] 3 trees, 93 leaves (31 on avg), max depth = 10, train loss: 1.03940, val loss: 1.03884, in 0.095s\n",
      "[35/100] 3 trees, 93 leaves (31 on avg), max depth = 13, train loss: 1.03924, val loss: 1.03868, in 0.097s\n",
      "[36/100] 3 trees, 93 leaves (31 on avg), max depth = 13, train loss: 1.03913, val loss: 1.03858, in 0.088s\n",
      "[37/100] 3 trees, 93 leaves (31 on avg), max depth = 15, train loss: 1.03905, val loss: 1.03850, in 0.105s\n",
      "[38/100] 3 trees, 93 leaves (31 on avg), max depth = 13, train loss: 1.03894, val loss: 1.03841, in 0.099s\n",
      "[39/100] 3 trees, 93 leaves (31 on avg), max depth = 10, train loss: 1.03872, val loss: 1.03820, in 0.098s\n",
      "[40/100] 3 trees, 93 leaves (31 on avg), max depth = 14, train loss: 1.03864, val loss: 1.03813, in 0.100s\n",
      "[41/100] 3 trees, 93 leaves (31 on avg), max depth = 12, train loss: 1.03824, val loss: 1.03773, in 0.096s\n",
      "[42/100] 3 trees, 93 leaves (31 on avg), max depth = 12, train loss: 1.03814, val loss: 1.03764, in 0.084s\n",
      "[43/100] 3 trees, 93 leaves (31 on avg), max depth = 14, train loss: 1.03789, val loss: 1.03739, in 0.105s\n",
      "[44/100] 3 trees, 93 leaves (31 on avg), max depth = 11, train loss: 1.03777, val loss: 1.03728, in 0.102s\n",
      "[45/100] 3 trees, 93 leaves (31 on avg), max depth = 15, train loss: 1.03757, val loss: 1.03708, in 0.091s\n",
      "[46/100] 3 trees, 93 leaves (31 on avg), max depth = 12, train loss: 1.03745, val loss: 1.03697, in 0.089s\n",
      "[47/100] 3 trees, 93 leaves (31 on avg), max depth = 12, train loss: 1.03731, val loss: 1.03684, in 0.085s\n",
      "[48/100] 3 trees, 93 leaves (31 on avg), max depth = 10, train loss: 1.03716, val loss: 1.03668, in 0.091s\n",
      "[49/100] 3 trees, 93 leaves (31 on avg), max depth = 12, train loss: 1.03708, val loss: 1.03662, in 0.087s\n",
      "[50/100] 3 trees, 93 leaves (31 on avg), max depth = 11, train loss: 1.03692, val loss: 1.03645, in 0.090s\n",
      "[51/100] 3 trees, 93 leaves (31 on avg), max depth = 13, train loss: 1.03678, val loss: 1.03632, in 0.088s\n",
      "[52/100] 3 trees, 93 leaves (31 on avg), max depth = 10, train loss: 1.03667, val loss: 1.03621, in 0.096s\n",
      "[53/100] 3 trees, 93 leaves (31 on avg), max depth = 9, train loss: 1.03647, val loss: 1.03602, in 0.092s\n",
      "[54/100] 3 trees, 93 leaves (31 on avg), max depth = 16, train loss: 1.03624, val loss: 1.03578, in 0.080s\n",
      "[55/100] 3 trees, 93 leaves (31 on avg), max depth = 14, train loss: 1.03616, val loss: 1.03572, in 0.087s\n",
      "[56/100] 3 trees, 93 leaves (31 on avg), max depth = 17, train loss: 1.03600, val loss: 1.03555, in 0.090s\n",
      "[57/100] 3 trees, 93 leaves (31 on avg), max depth = 12, train loss: 1.03586, val loss: 1.03540, in 0.093s\n",
      "[58/100] 3 trees, 93 leaves (31 on avg), max depth = 12, train loss: 1.03573, val loss: 1.03528, in 0.086s\n",
      "[59/100] 3 trees, 93 leaves (31 on avg), max depth = 14, train loss: 1.03560, val loss: 1.03516, in 0.095s\n",
      "[60/100] 3 trees, 93 leaves (31 on avg), max depth = 13, train loss: 1.03549, val loss: 1.03504, in 0.092s\n",
      "[61/100] 3 trees, 93 leaves (31 on avg), max depth = 16, train loss: 1.03545, val loss: 1.03501, in 0.089s\n",
      "[62/100] 3 trees, 93 leaves (31 on avg), max depth = 12, train loss: 1.03538, val loss: 1.03495, in 0.081s\n",
      "[63/100] 3 trees, 93 leaves (31 on avg), max depth = 17, train loss: 1.03527, val loss: 1.03484, in 0.092s\n",
      "[64/100] 3 trees, 93 leaves (31 on avg), max depth = 14, train loss: 1.03515, val loss: 1.03472, in 0.092s\n",
      "[65/100] 3 trees, 93 leaves (31 on avg), max depth = 11, train loss: 1.03504, val loss: 1.03461, in 0.100s\n",
      "[66/100] 3 trees, 93 leaves (31 on avg), max depth = 13, train loss: 1.03492, val loss: 1.03450, in 0.083s\n",
      "[67/100] 3 trees, 93 leaves (31 on avg), max depth = 11, train loss: 1.03482, val loss: 1.03440, in 0.100s\n",
      "[68/100] 3 trees, 93 leaves (31 on avg), max depth = 17, train loss: 1.03475, val loss: 1.03434, in 0.087s\n",
      "[69/100] 3 trees, 93 leaves (31 on avg), max depth = 12, train loss: 1.03472, val loss: 1.03432, in 0.074s\n",
      "[70/100] 3 trees, 93 leaves (31 on avg), max depth = 16, train loss: 1.03462, val loss: 1.03423, in 0.082s\n",
      "[71/100] 3 trees, 93 leaves (31 on avg), max depth = 12, train loss: 1.03452, val loss: 1.03412, in 0.083s\n",
      "[72/100] 3 trees, 93 leaves (31 on avg), max depth = 10, train loss: 1.03447, val loss: 1.03407, in 0.086s\n",
      "[73/100] 3 trees, 93 leaves (31 on avg), max depth = 11, train loss: 1.03439, val loss: 1.03400, in 0.096s\n",
      "[74/100] 3 trees, 93 leaves (31 on avg), max depth = 13, train loss: 1.03434, val loss: 1.03396, in 0.079s\n",
      "[75/100] 3 trees, 93 leaves (31 on avg), max depth = 15, train loss: 1.03423, val loss: 1.03386, in 0.086s\n",
      "[76/100] 3 trees, 93 leaves (31 on avg), max depth = 10, train loss: 1.03415, val loss: 1.03379, in 0.091s\n",
      "[77/100] 3 trees, 93 leaves (31 on avg), max depth = 14, train loss: 1.03402, val loss: 1.03368, in 0.097s\n",
      "[78/100] 3 trees, 93 leaves (31 on avg), max depth = 13, train loss: 1.03394, val loss: 1.03361, in 0.080s\n",
      "[79/100] 3 trees, 93 leaves (31 on avg), max depth = 14, train loss: 1.03376, val loss: 1.03343, in 0.090s\n",
      "[80/100] 3 trees, 93 leaves (31 on avg), max depth = 11, train loss: 1.03369, val loss: 1.03337, in 0.085s\n",
      "[81/100] 3 trees, 93 leaves (31 on avg), max depth = 12, train loss: 1.03359, val loss: 1.03327, in 0.081s\n",
      "[82/100] 3 trees, 93 leaves (31 on avg), max depth = 19, train loss: 1.03346, val loss: 1.03315, in 0.087s\n",
      "[83/100] 3 trees, 93 leaves (31 on avg), max depth = 13, train loss: 1.03336, val loss: 1.03305, in 0.090s\n",
      "[84/100] 3 trees, 93 leaves (31 on avg), max depth = 12, train loss: 1.03327, val loss: 1.03296, in 0.085s\n",
      "[85/100] 3 trees, 93 leaves (31 on avg), max depth = 15, train loss: 1.03322, val loss: 1.03293, in 0.077s\n",
      "[86/100] 3 trees, 93 leaves (31 on avg), max depth = 13, train loss: 1.03315, val loss: 1.03287, in 0.077s\n",
      "[87/100] 3 trees, 93 leaves (31 on avg), max depth = 10, train loss: 1.03313, val loss: 1.03286, in 0.085s\n",
      "[88/100] 3 trees, 93 leaves (31 on avg), max depth = 13, train loss: 1.03298, val loss: 1.03271, in 0.090s\n",
      "[89/100] 3 trees, 93 leaves (31 on avg), max depth = 12, train loss: 1.03294, val loss: 1.03268, in 0.083s\n",
      "[90/100] 3 trees, 93 leaves (31 on avg), max depth = 16, train loss: 1.03286, val loss: 1.03262, in 0.087s\n",
      "[91/100] 3 trees, 93 leaves (31 on avg), max depth = 16, train loss: 1.03281, val loss: 1.03257, in 0.076s\n",
      "[92/100] 3 trees, 93 leaves (31 on avg), max depth = 11, train loss: 1.03267, val loss: 1.03244, in 0.086s\n",
      "[93/100] 3 trees, 93 leaves (31 on avg), max depth = 15, train loss: 1.03260, val loss: 1.03238, in 0.077s\n",
      "[94/100] 3 trees, 93 leaves (31 on avg), max depth = 12, train loss: 1.03252, val loss: 1.03231, in 0.087s\n",
      "[95/100] 3 trees, 93 leaves (31 on avg), max depth = 19, train loss: 1.03240, val loss: 1.03220, in 0.089s\n",
      "[96/100] 3 trees, 93 leaves (31 on avg), max depth = 12, train loss: 1.03234, val loss: 1.03215, in 0.080s\n",
      "[97/100] 3 trees, 93 leaves (31 on avg), max depth = 16, train loss: 1.03229, val loss: 1.03210, in 0.083s\n",
      "[98/100] 3 trees, 93 leaves (31 on avg), max depth = 12, train loss: 1.03227, val loss: 1.03209, in 0.074s\n",
      "[99/100] 3 trees, 93 leaves (31 on avg), max depth = 13, train loss: 1.03226, val loss: 1.03208, in 0.068s\n",
      "[100/100] 3 trees, 93 leaves (31 on avg), max depth = 13, train loss: 1.03219, val loss: 1.03203, in 0.083s\n",
      "Fit 300 trees in 10.699 s, (9300 total leaves)\n",
      "Time spent computing histograms: 2.952s\n",
      "Time spent finding best splits:  0.161s\n",
      "Time spent applying splits:      1.759s\n",
      "Time spent predicting:           0.741s\n"
     ]
    },
    {
     "data": {
      "text/html": [
       "<style>#sk-container-id-5 {color: black;}#sk-container-id-5 pre{padding: 0;}#sk-container-id-5 div.sk-toggleable {background-color: white;}#sk-container-id-5 label.sk-toggleable__label {cursor: pointer;display: block;width: 100%;margin-bottom: 0;padding: 0.3em;box-sizing: border-box;text-align: center;}#sk-container-id-5 label.sk-toggleable__label-arrow:before {content: \"▸\";float: left;margin-right: 0.25em;color: #696969;}#sk-container-id-5 label.sk-toggleable__label-arrow:hover:before {color: black;}#sk-container-id-5 div.sk-estimator:hover label.sk-toggleable__label-arrow:before {color: black;}#sk-container-id-5 div.sk-toggleable__content {max-height: 0;max-width: 0;overflow: hidden;text-align: left;background-color: #f0f8ff;}#sk-container-id-5 div.sk-toggleable__content pre {margin: 0.2em;color: black;border-radius: 0.25em;background-color: #f0f8ff;}#sk-container-id-5 input.sk-toggleable__control:checked~div.sk-toggleable__content {max-height: 200px;max-width: 100%;overflow: auto;}#sk-container-id-5 input.sk-toggleable__control:checked~label.sk-toggleable__label-arrow:before {content: \"▾\";}#sk-container-id-5 div.sk-estimator input.sk-toggleable__control:checked~label.sk-toggleable__label {background-color: #d4ebff;}#sk-container-id-5 div.sk-label input.sk-toggleable__control:checked~label.sk-toggleable__label {background-color: #d4ebff;}#sk-container-id-5 input.sk-hidden--visually {border: 0;clip: rect(1px 1px 1px 1px);clip: rect(1px, 1px, 1px, 1px);height: 1px;margin: -1px;overflow: hidden;padding: 0;position: absolute;width: 1px;}#sk-container-id-5 div.sk-estimator {font-family: monospace;background-color: #f0f8ff;border: 1px dotted black;border-radius: 0.25em;box-sizing: border-box;margin-bottom: 0.5em;}#sk-container-id-5 div.sk-estimator:hover {background-color: #d4ebff;}#sk-container-id-5 div.sk-parallel-item::after {content: \"\";width: 100%;border-bottom: 1px solid gray;flex-grow: 1;}#sk-container-id-5 div.sk-label:hover label.sk-toggleable__label {background-color: #d4ebff;}#sk-container-id-5 div.sk-serial::before {content: \"\";position: absolute;border-left: 1px solid gray;box-sizing: border-box;top: 0;bottom: 0;left: 50%;z-index: 0;}#sk-container-id-5 div.sk-serial {display: flex;flex-direction: column;align-items: center;background-color: white;padding-right: 0.2em;padding-left: 0.2em;position: relative;}#sk-container-id-5 div.sk-item {position: relative;z-index: 1;}#sk-container-id-5 div.sk-parallel {display: flex;align-items: stretch;justify-content: center;background-color: white;position: relative;}#sk-container-id-5 div.sk-item::before, #sk-container-id-5 div.sk-parallel-item::before {content: \"\";position: absolute;border-left: 1px solid gray;box-sizing: border-box;top: 0;bottom: 0;left: 50%;z-index: -1;}#sk-container-id-5 div.sk-parallel-item {display: flex;flex-direction: column;z-index: 1;position: relative;background-color: white;}#sk-container-id-5 div.sk-parallel-item:first-child::after {align-self: flex-end;width: 50%;}#sk-container-id-5 div.sk-parallel-item:last-child::after {align-self: flex-start;width: 50%;}#sk-container-id-5 div.sk-parallel-item:only-child::after {width: 0;}#sk-container-id-5 div.sk-dashed-wrapped {border: 1px dashed gray;margin: 0 0.4em 0.5em 0.4em;box-sizing: border-box;padding-bottom: 0.4em;background-color: white;}#sk-container-id-5 div.sk-label label {font-family: monospace;font-weight: bold;display: inline-block;line-height: 1.2em;}#sk-container-id-5 div.sk-label-container {text-align: center;}#sk-container-id-5 div.sk-container {/* jupyter's `normalize.less` sets `[hidden] { display: none; }` but bootstrap.min.css set `[hidden] { display: none !important; }` so we also need the `!important` here to be able to override the default hidden behavior on the sphinx rendered scikit-learn.org. See: https://github.com/scikit-learn/scikit-learn/issues/21755 */display: inline-block !important;position: relative;}#sk-container-id-5 div.sk-text-repr-fallback {display: none;}</style><div id=\"sk-container-id-5\" class=\"sk-top-container\"><div class=\"sk-text-repr-fallback\"><pre>HistGradientBoostingClassifier(random_state=42, verbose=True)</pre><b>In a Jupyter environment, please rerun this cell to show the HTML representation or trust the notebook. <br />On GitHub, the HTML representation is unable to render, please try loading this page with nbviewer.org.</b></div><div class=\"sk-container\" hidden><div class=\"sk-item\"><div class=\"sk-estimator sk-toggleable\"><input class=\"sk-toggleable__control sk-hidden--visually\" id=\"sk-estimator-id-5\" type=\"checkbox\" checked><label for=\"sk-estimator-id-5\" class=\"sk-toggleable__label sk-toggleable__label-arrow\">HistGradientBoostingClassifier</label><div class=\"sk-toggleable__content\"><pre>HistGradientBoostingClassifier(random_state=42, verbose=True)</pre></div></div></div></div></div>"
      ],
      "text/plain": [
       "HistGradientBoostingClassifier(random_state=42, verbose=True)"
      ]
     },
     "execution_count": 13,
     "metadata": {},
     "output_type": "execute_result"
    }
   ],
   "source": [
    "svm_clf = HistGradientBoostingClassifier(verbose=True, random_state=42, class_weight='balanced')\n",
    "svm_clf.fit(X_train, y_train)\n"
   ]
  },
  {
   "cell_type": "markdown",
   "metadata": {},
   "source": [
    "# Evaluation"
   ]
  },
  {
   "cell_type": "code",
   "execution_count": 14,
   "metadata": {},
   "outputs": [
    {
     "name": "stdout",
     "output_type": "stream",
     "text": [
      "0.4345837110862008\n"
     ]
    },
    {
     "data": {
      "image/png": "[encoded data removed]",
      "text/plain": [
       "<Figure size 640x480 with 2 Axes>"
      ]
     },
     "metadata": {},
     "output_type": "display_data"
    }
   ],
   "source": [
    "svm_y_pred = svm_clf.predict(X_test)\n",
    "\n",
    "svm_acc = accuracy_score(y_test, svm_y_pred)\n",
    "print(svm_acc)\n",
    "\n",
    "svm_cm = confusion_matrix(y_test, svm_y_pred, labels=svm_clf.classes_)\n",
    "svm_disp = ConfusionMatrixDisplay(confusion_matrix=svm_cm, display_labels=svm_clf.classes_)\n",
    "svm_disp.plot()\n",
    "plt.show()\n"
   ]
  }
 ],
 "metadata": {
  "kernelspec": {
   "display_name": ".venv",
   "language": "python",
   "name": "python3"
  },
  "language_info": {
   "codemirror_mode": {
    "name": "ipython",
    "version": 3
   },
   "file_extension": ".py",
   "mimetype": "text/x-python",
   "name": "python",
   "nbconvert_exporter": "python",
   "pygments_lexer": "ipython3",
   "version": "3.12.0"
  }
 },
 "nbformat": 4,
 "nbformat_minor": 2
}
